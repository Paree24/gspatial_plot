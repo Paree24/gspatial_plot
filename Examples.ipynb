{
 "cells": [
  {
   "cell_type": "code",
   "execution_count": null,
   "id": "7dadc8b4",
   "metadata": {
    "ExecuteTime": {
     "end_time": "2023-02-04T10:35:53.349320Z",
     "start_time": "2023-02-04T10:35:49.816889Z"
    },
    "scrolled": false
   },
   "outputs": [],
   "source": [
    "%load_ext nb_black\n",
    "import gspatial_plot as gsp\n",
    "import geopandas as gpd\n",
    "import numpy as np\n",
    "import pandas as pd"
   ]
  },
  {
   "cell_type": "code",
   "execution_count": null,
   "id": "7f4f54f1",
   "metadata": {
    "ExecuteTime": {
     "end_time": "2023-02-04T10:35:53.358156Z",
     "start_time": "2023-02-04T10:35:53.352808Z"
    }
   },
   "outputs": [],
   "source": [
    "usa = gsp.us_states"
   ]
  },
  {
   "cell_type": "code",
   "execution_count": null,
   "id": "31cbc297",
   "metadata": {
    "ExecuteTime": {
     "end_time": "2023-02-04T10:35:53.395229Z",
     "start_time": "2023-02-04T10:35:53.364226Z"
    }
   },
   "outputs": [],
   "source": [
    "usa.head()"
   ]
  },
  {
   "cell_type": "code",
   "execution_count": null,
   "id": "de03ef5d",
   "metadata": {
    "ExecuteTime": {
     "end_time": "2023-02-04T10:35:53.412300Z",
     "start_time": "2023-02-04T10:35:53.400626Z"
    }
   },
   "outputs": [],
   "source": [
    "usa = usa[\n",
    "    ~usa[\"NAME\"].isin(\n",
    "        [\n",
    "            \"Hawaii\",\n",
    "            \"Guam\",\n",
    "            \"American Samoa\",\n",
    "            \"Commonwealth of the Northern Mariana Islands\",\n",
    "            \"Alaska\",\n",
    "        ]\n",
    "    )\n",
    "]"
   ]
  },
  {
   "cell_type": "code",
   "execution_count": null,
   "id": "e1e1caac",
   "metadata": {
    "ExecuteTime": {
     "end_time": "2023-02-04T10:35:53.639837Z",
     "start_time": "2023-02-04T10:35:53.416485Z"
    }
   },
   "outputs": [],
   "source": [
    "usa.plot()"
   ]
  },
  {
   "cell_type": "code",
   "execution_count": null,
   "id": "8b6b5200",
   "metadata": {
    "ExecuteTime": {
     "end_time": "2023-02-04T10:35:54.285476Z",
     "start_time": "2023-02-04T10:35:53.642242Z"
    },
    "scrolled": false
   },
   "outputs": [],
   "source": [
    "gsp.randommap(usa, seed=3, annot=True, annot_column=\"NAME\", figsize=(30, 30))"
   ]
  },
  {
   "cell_type": "code",
   "execution_count": null,
   "id": "d8acda72",
   "metadata": {
    "ExecuteTime": {
     "end_time": "2023-02-04T10:35:54.485667Z",
     "start_time": "2023-02-04T10:35:54.286727Z"
    }
   },
   "outputs": [],
   "source": [
    "gsp.shapeplot(usa, figsize=(15, 15))"
   ]
  },
  {
   "cell_type": "code",
   "execution_count": null,
   "id": "9b526363",
   "metadata": {
    "ExecuteTime": {
     "end_time": "2023-02-04T10:35:54.744574Z",
     "start_time": "2023-02-04T10:35:54.489274Z"
    },
    "scrolled": false
   },
   "outputs": [],
   "source": [
    "gsp.shapeplot(\n",
    "    usa,\n",
    "    title=\"USA MAP\",\n",
    "    title_kwds={\"fontsize\": 25, \"fontname\": \"sans-serif\", \"fontweight\": 3},\n",
    ")"
   ]
  },
  {
   "cell_type": "code",
   "execution_count": null,
   "id": "3a8bd77c",
   "metadata": {
    "ExecuteTime": {
     "end_time": "2023-02-04T10:35:54.757890Z",
     "start_time": "2023-02-04T10:35:54.748273Z"
    }
   },
   "outputs": [],
   "source": [
    "usa_points = usa.copy()\n",
    "usa_points[\"geometry\"] = usa_points.representative_point()"
   ]
  },
  {
   "cell_type": "code",
   "execution_count": null,
   "id": "3f985581",
   "metadata": {
    "ExecuteTime": {
     "end_time": "2023-02-04T10:35:54.985752Z",
     "start_time": "2023-02-04T10:35:54.760158Z"
    },
    "scrolled": false
   },
   "outputs": [],
   "source": [
    "gsp.pointplot(usa_points, base=usa)"
   ]
  },
  {
   "cell_type": "code",
   "execution_count": null,
   "id": "b648c837",
   "metadata": {
    "ExecuteTime": {
     "end_time": "2023-02-04T10:35:55.223706Z",
     "start_time": "2023-02-04T10:35:54.988032Z"
    },
    "scrolled": false
   },
   "outputs": [],
   "source": [
    "gsp.pointplot(usa_points, base=usa, base_boundary=False)"
   ]
  },
  {
   "cell_type": "code",
   "execution_count": null,
   "id": "f0896db4",
   "metadata": {
    "ExecuteTime": {
     "end_time": "2023-02-04T10:35:55.448553Z",
     "start_time": "2023-02-04T10:35:55.232693Z"
    }
   },
   "outputs": [],
   "source": [
    "usa_points.plot()"
   ]
  },
  {
   "cell_type": "code",
   "execution_count": null,
   "id": "fb6de721",
   "metadata": {
    "ExecuteTime": {
     "end_time": "2023-02-04T10:35:55.605156Z",
     "start_time": "2023-02-04T10:35:55.450803Z"
    }
   },
   "outputs": [],
   "source": [
    "gsp.pointplot(usa_points)"
   ]
  },
  {
   "cell_type": "code",
   "execution_count": null,
   "id": "1b0285de",
   "metadata": {
    "ExecuteTime": {
     "end_time": "2023-02-04T10:35:55.824620Z",
     "start_time": "2023-02-04T10:35:55.607777Z"
    }
   },
   "outputs": [],
   "source": [
    "ax = gsp.shapeplot(usa, figsize=(15, 15))\n",
    "gsp.pointplot(usa_points, ax=ax)"
   ]
  },
  {
   "cell_type": "code",
   "execution_count": null,
   "id": "b586382c",
   "metadata": {
    "ExecuteTime": {
     "end_time": "2023-02-04T10:35:56.120106Z",
     "start_time": "2023-02-04T10:35:55.826997Z"
    },
    "scrolled": false
   },
   "outputs": [],
   "source": [
    "gsp.pointplot(\n",
    "    usa_points,\n",
    "    base=usa,\n",
    "    basecolor=\"#7aebff\",\n",
    "    base_boundary=False,\n",
    "    title=\"USA Points\",\n",
    "    title_kwds={\"fontsize\": 25, \"fontname\": \"sans-serif\", \"fontweight\": 3},\n",
    ")"
   ]
  },
  {
   "cell_type": "code",
   "execution_count": null,
   "id": "27044b34",
   "metadata": {
    "ExecuteTime": {
     "end_time": "2023-02-04T10:35:56.148287Z",
     "start_time": "2023-02-04T10:35:56.121808Z"
    }
   },
   "outputs": [],
   "source": [
    "usa.head()"
   ]
  },
  {
   "cell_type": "code",
   "execution_count": null,
   "id": "e4a51a6f",
   "metadata": {
    "ExecuteTime": {
     "end_time": "2023-02-04T10:35:56.890154Z",
     "start_time": "2023-02-04T10:35:56.151331Z"
    },
    "scrolled": false
   },
   "outputs": [],
   "source": [
    "gsp.choropleth(usa, \"AWATER\")"
   ]
  },
  {
   "cell_type": "code",
   "execution_count": null,
   "id": "d32e3695",
   "metadata": {
    "ExecuteTime": {
     "end_time": "2023-02-04T10:35:57.203741Z",
     "start_time": "2023-02-04T10:35:56.892352Z"
    },
    "scrolled": false
   },
   "outputs": [],
   "source": [
    "gsp.choropleth(\n",
    "    usa,\n",
    "    \"AWATER\",\n",
    "    scheme=None,\n",
    "    scale_colorbar=True,\n",
    ")"
   ]
  },
  {
   "cell_type": "code",
   "execution_count": null,
   "id": "8aca1af7",
   "metadata": {
    "ExecuteTime": {
     "end_time": "2023-02-04T10:35:57.805566Z",
     "start_time": "2023-02-04T10:35:57.205242Z"
    },
    "scrolled": false
   },
   "outputs": [],
   "source": [
    "gsp.choropleth(\n",
    "    usa,\n",
    "    \"AWATER\",\n",
    "    cmap=\"Blues\",\n",
    "    figsize=(30, 30),\n",
    "    legend_kwds={\"loc\": \"lower left\", \"bbox_to_anchor\": (0, 0.2), \"prop\": {\"size\": 22}},\n",
    "    title=\"USA TOTAL WATER AREA\",\n",
    "    title_kwds={\n",
    "        \"fontsize\": 50,\n",
    "        \"fontname\": \"sans-serif\",\n",
    "        \"fontweight\": 3,\n",
    "        \"loc\": \"right\",\n",
    "    },\n",
    ")"
   ]
  },
  {
   "cell_type": "code",
   "execution_count": null,
   "id": "f5b10141",
   "metadata": {
    "ExecuteTime": {
     "end_time": "2023-02-04T10:35:58.100041Z",
     "start_time": "2023-02-04T10:35:57.807150Z"
    },
    "scrolled": false
   },
   "outputs": [],
   "source": [
    "gsp.bubblemap(usa, usa[\"AWATER\"])"
   ]
  },
  {
   "cell_type": "code",
   "execution_count": null,
   "id": "f6c09b71",
   "metadata": {
    "ExecuteTime": {
     "end_time": "2023-02-04T10:35:58.371901Z",
     "start_time": "2023-02-04T10:35:58.101716Z"
    }
   },
   "outputs": [],
   "source": [
    "gsp.bubblemap(usa, usa[\"AWATER\"], scale_factor=400)"
   ]
  },
  {
   "cell_type": "code",
   "execution_count": null,
   "id": "2092e307",
   "metadata": {
    "ExecuteTime": {
     "end_time": "2023-02-04T10:35:58.382821Z",
     "start_time": "2023-02-04T10:35:58.373557Z"
    }
   },
   "outputs": [],
   "source": [
    "usa_points[\"value\"] = np.random.uniform(40, 4000, len(usa_points))"
   ]
  },
  {
   "cell_type": "code",
   "execution_count": null,
   "id": "1bde2941",
   "metadata": {
    "ExecuteTime": {
     "end_time": "2023-02-04T10:35:58.609184Z",
     "start_time": "2023-02-04T10:35:58.385304Z"
    },
    "scrolled": false
   },
   "outputs": [],
   "source": [
    "gsp.bubblemap(usa_points, \"value\", point_data=True)"
   ]
  },
  {
   "cell_type": "code",
   "execution_count": null,
   "id": "aa64faa4",
   "metadata": {
    "ExecuteTime": {
     "end_time": "2023-02-04T10:35:58.627414Z",
     "start_time": "2023-02-04T10:35:58.615809Z"
    }
   },
   "outputs": [],
   "source": [
    "usa_pts = usa.copy()\n",
    "usa_pts[\"geometry\"] = usa_pts.representative_point()"
   ]
  },
  {
   "cell_type": "code",
   "execution_count": null,
   "id": "e2f7f677",
   "metadata": {
    "ExecuteTime": {
     "end_time": "2023-02-04T10:35:58.832064Z",
     "start_time": "2023-02-04T10:35:58.633918Z"
    }
   },
   "outputs": [],
   "source": [
    "gsp.bubblemap(usa_pts, \"AWATER\", point_data=True)"
   ]
  },
  {
   "cell_type": "code",
   "execution_count": null,
   "id": "2378ad9f",
   "metadata": {
    "ExecuteTime": {
     "end_time": "2023-02-04T10:35:59.286836Z",
     "start_time": "2023-02-04T10:35:58.834425Z"
    }
   },
   "outputs": [],
   "source": [
    "gsp.bubblemap(usa_pts, \"AWATER\", base=usa, base_boundary=False, point_data=True)"
   ]
  },
  {
   "cell_type": "code",
   "execution_count": null,
   "id": "e295615e",
   "metadata": {
    "ExecuteTime": {
     "end_time": "2023-02-04T10:35:59.874433Z",
     "start_time": "2023-02-04T10:35:59.288459Z"
    }
   },
   "outputs": [],
   "source": [
    "gsp.bubblemap(\n",
    "    usa,\n",
    "    usa[\"AWATER\"],\n",
    "    cmap=\"Blues\",\n",
    "    figsize=(30, 30),\n",
    "    legend_kwds={\"loc\": \"lower left\", \"bbox_to_anchor\": (0, 0.2), \"prop\": {\"size\": 22}},\n",
    "    title=\"USA TOTAL WATER AREA\",\n",
    "    title_kwds={\n",
    "        \"fontsize\": 50,\n",
    "        \"fontname\": \"sans-serif\",\n",
    "        \"fontweight\": 3,\n",
    "        \"loc\": \"right\",\n",
    "    },\n",
    "    scale_factor=2000,\n",
    ")"
   ]
  },
  {
   "cell_type": "code",
   "execution_count": null,
   "id": "493d79eb",
   "metadata": {
    "ExecuteTime": {
     "end_time": "2023-02-04T10:36:00.189907Z",
     "start_time": "2023-02-04T10:35:59.875847Z"
    },
    "scrolled": false
   },
   "outputs": [],
   "source": [
    "gsp.cartogram(\n",
    "    usa,\n",
    "    \"AWATER\",\n",
    ")"
   ]
  },
  {
   "cell_type": "code",
   "execution_count": null,
   "id": "7d10d539",
   "metadata": {
    "ExecuteTime": {
     "end_time": "2023-02-04T10:36:00.879106Z",
     "start_time": "2023-02-04T10:36:00.194882Z"
    },
    "scrolled": false
   },
   "outputs": [],
   "source": [
    "gsp.cartogram(\n",
    "    usa,\n",
    "    usa[\"AWATER\"],\n",
    "    cmap=\"Blues\",\n",
    "    figsize=(30, 30),\n",
    "    legend_kwds={\"loc\": \"lower left\", \"bbox_to_anchor\": (0, 0.2), \"prop\": {\"size\": 22}},\n",
    "    title=\"USA TOTAL WATER AREA\",\n",
    "    title_kwds={\n",
    "        \"fontsize\": 50,\n",
    "        \"fontname\": \"sans-serif\",\n",
    "        \"fontweight\": 3,\n",
    "        \"loc\": \"right\",\n",
    "    },\n",
    ")"
   ]
  },
  {
   "cell_type": "code",
   "execution_count": null,
   "id": "30b98cc3",
   "metadata": {
    "ExecuteTime": {
     "end_time": "2023-02-04T10:36:01.433846Z",
     "start_time": "2023-02-04T10:36:00.880456Z"
    }
   },
   "outputs": [],
   "source": [
    "gsp.cartogram(\n",
    "    usa,\n",
    "    usa[\"AWATER\"],\n",
    "    cartogram_only=True,\n",
    "    cmap=\"Blues\",\n",
    "    figsize=(30, 30),\n",
    "    legend_kwds={\"loc\": \"lower left\", \"bbox_to_anchor\": (0, 0.2), \"prop\": {\"size\": 22}},\n",
    "    title=\"USA TOTAL WATER AREA\",\n",
    "    title_kwds={\n",
    "        \"fontsize\": 50,\n",
    "        \"fontname\": \"sans-serif\",\n",
    "        \"fontweight\": 3,\n",
    "        \"loc\": \"right\",\n",
    "    },\n",
    ")"
   ]
  },
  {
   "cell_type": "code",
   "execution_count": null,
   "id": "ba246f55",
   "metadata": {
    "ExecuteTime": {
     "end_time": "2023-02-04T10:36:01.767417Z",
     "start_time": "2023-02-04T10:36:01.435561Z"
    }
   },
   "outputs": [],
   "source": [
    "gsp.densityplot(usa)"
   ]
  },
  {
   "cell_type": "code",
   "execution_count": null,
   "id": "4cb07471",
   "metadata": {
    "ExecuteTime": {
     "end_time": "2023-02-04T10:36:02.260319Z",
     "start_time": "2023-02-04T10:36:01.770208Z"
    },
    "scrolled": false
   },
   "outputs": [],
   "source": [
    "gsp.densityplot(usa, clip=True, clip_factor=1.5)"
   ]
  },
  {
   "cell_type": "code",
   "execution_count": null,
   "id": "326362fd",
   "metadata": {
    "ExecuteTime": {
     "end_time": "2023-02-04T10:36:02.535288Z",
     "start_time": "2023-02-04T10:36:02.261618Z"
    }
   },
   "outputs": [],
   "source": [
    "gsp.heatmap(usa, \"AWATER\")"
   ]
  },
  {
   "cell_type": "code",
   "execution_count": null,
   "id": "fdd9e1e0",
   "metadata": {
    "ExecuteTime": {
     "end_time": "2023-02-04T10:36:22.018116Z",
     "start_time": "2023-02-04T10:36:02.537013Z"
    }
   },
   "outputs": [],
   "source": [
    "gsp.heatmap(\n",
    "    usa,\n",
    "    \"AWATER\",\n",
    "    interpolate=True,\n",
    "    interpolation_grid_space=0.1,\n",
    "    clip=True,\n",
    ")"
   ]
  },
  {
   "cell_type": "code",
   "execution_count": null,
   "id": "456f8ed3",
   "metadata": {
    "ExecuteTime": {
     "end_time": "2023-02-04T10:36:22.721516Z",
     "start_time": "2023-02-04T10:36:22.019278Z"
    }
   },
   "outputs": [],
   "source": [
    "gsp.offline_static_basemap()"
   ]
  },
  {
   "cell_type": "code",
   "execution_count": null,
   "id": "d4c5ae56",
   "metadata": {
    "ExecuteTime": {
     "end_time": "2023-02-04T10:36:23.505485Z",
     "start_time": "2023-02-04T10:36:22.723347Z"
    }
   },
   "outputs": [],
   "source": [
    "ax = gsp.offline_static_basemap(bounds=usa.total_bounds)\n",
    "gsp.pointplot(usa_points, ax=ax)"
   ]
  },
  {
   "cell_type": "code",
   "execution_count": null,
   "id": "b6defaa2",
   "metadata": {
    "ExecuteTime": {
     "end_time": "2023-02-04T10:36:24.319665Z",
     "start_time": "2023-02-04T10:36:23.507308Z"
    },
    "scrolled": false
   },
   "outputs": [],
   "source": [
    "ax = gsp.offline_static_basemap(\n",
    "    bounds=usa.total_bounds,\n",
    "    landcolor=\"#DCE1B5\",\n",
    "    watercolor=\"#68BCFF\",\n",
    "    gridlines_alpha=0,\n",
    "    linewidth=0.5,\n",
    ")\n",
    "gsp.pointplot(usa_points, ax=ax)"
   ]
  },
  {
   "cell_type": "code",
   "execution_count": null,
   "id": "0a4174fa",
   "metadata": {
    "ExecuteTime": {
     "end_time": "2023-02-04T10:36:26.441761Z",
     "start_time": "2023-02-04T10:36:24.321517Z"
    }
   },
   "outputs": [],
   "source": [
    "gsp.offline_folium_basemap(crs=\"EPSG4326\")"
   ]
  },
  {
   "cell_type": "code",
   "execution_count": null,
   "id": "7c9f3df1",
   "metadata": {
    "ExecuteTime": {
     "end_time": "2023-02-04T10:36:26.943926Z",
     "start_time": "2023-02-04T10:36:26.457721Z"
    }
   },
   "outputs": [],
   "source": [
    "gsp.spikemap(usa, \"AWATER\")"
   ]
  },
  {
   "cell_type": "code",
   "execution_count": null,
   "id": "e6e23f92",
   "metadata": {
    "ExecuteTime": {
     "end_time": "2023-02-04T10:36:26.983064Z",
     "start_time": "2023-02-04T10:36:26.946419Z"
    }
   },
   "outputs": [],
   "source": [
    "usa_moll = usa.to_crs(\"ESRI:54009\")"
   ]
  },
  {
   "cell_type": "code",
   "execution_count": null,
   "id": "9023f99b",
   "metadata": {
    "ExecuteTime": {
     "end_time": "2023-02-04T10:36:27.366176Z",
     "start_time": "2023-02-04T10:36:26.984784Z"
    }
   },
   "outputs": [],
   "source": [
    "gsp.spikemap(usa_moll, \"AWATER\", x_scale_factor=10, y_scale_factor=10, not_wgs84=True)"
   ]
  },
  {
   "cell_type": "code",
   "execution_count": null,
   "id": "1d1ced19",
   "metadata": {
    "ExecuteTime": {
     "end_time": "2023-02-04T10:36:27.602668Z",
     "start_time": "2023-02-04T10:36:27.368683Z"
    }
   },
   "outputs": [],
   "source": [
    "gsp.spikemap(usa, \"AWATER\", spike_only=True)"
   ]
  },
  {
   "cell_type": "code",
   "execution_count": null,
   "id": "3daa5cea",
   "metadata": {
    "ExecuteTime": {
     "end_time": "2023-02-04T10:36:28.292393Z",
     "start_time": "2023-02-04T10:36:27.605971Z"
    },
    "scrolled": false
   },
   "outputs": [],
   "source": [
    "gsp.spikemap(\n",
    "    usa,\n",
    "    usa[\"AWATER\"],\n",
    "    cmap=\"Blues\",\n",
    "    figsize=(30, 30),\n",
    "    legend_kwds={\"loc\": \"lower left\", \"bbox_to_anchor\": (0, 0.2), \"prop\": {\"size\": 22}},\n",
    "    title=\"USA TOTAL WATER AREA\",\n",
    "    title_kwds={\n",
    "        \"fontsize\": 50,\n",
    "        \"fontname\": \"sans-serif\",\n",
    "        \"fontweight\": 3,\n",
    "        \"loc\": \"right\",\n",
    "    },\n",
    ")"
   ]
  },
  {
   "cell_type": "code",
   "execution_count": null,
   "id": "c5cb8068",
   "metadata": {
    "ExecuteTime": {
     "end_time": "2023-02-04T10:36:28.957181Z",
     "start_time": "2023-02-04T10:36:28.293865Z"
    },
    "scrolled": false
   },
   "outputs": [],
   "source": [
    "gsp.spikemap(\n",
    "    usa,\n",
    "    usa[\"AWATER\"],\n",
    "    shape=\"rectangle\",\n",
    "    cmap=\"Blues\",\n",
    "    figsize=(30, 30),\n",
    "    legend_kwds={\"loc\": \"lower left\", \"bbox_to_anchor\": (0, 0.2), \"prop\": {\"size\": 22}},\n",
    "    title=\"USA TOTAL WATER AREA\",\n",
    "    title_kwds={\n",
    "        \"fontsize\": 50,\n",
    "        \"fontname\": \"sans-serif\",\n",
    "        \"fontweight\": 3,\n",
    "        \"loc\": \"right\",\n",
    "    },\n",
    ")"
   ]
  },
  {
   "cell_type": "code",
   "execution_count": null,
   "id": "a4ff4bd9",
   "metadata": {
    "ExecuteTime": {
     "end_time": "2023-02-04T10:36:28.963467Z",
     "start_time": "2023-02-04T10:36:28.958598Z"
    }
   },
   "outputs": [],
   "source": [
    "import numpy as np\n",
    "from shapely.geometry import LineString"
   ]
  },
  {
   "cell_type": "code",
   "execution_count": null,
   "id": "91553758",
   "metadata": {
    "ExecuteTime": {
     "end_time": "2023-02-04T10:36:28.989080Z",
     "start_time": "2023-02-04T10:36:28.965553Z"
    }
   },
   "outputs": [],
   "source": [
    "lines = gpd.GeoSeries(\n",
    "    [\n",
    "        LineString(\n",
    "            [\n",
    "                np.random.choice(usa.representative_point()),\n",
    "                np.random.choice(usa.representative_point()),\n",
    "            ],\n",
    "        )\n",
    "        for i in range(0, 4)\n",
    "    ]\n",
    ")"
   ]
  },
  {
   "cell_type": "code",
   "execution_count": null,
   "id": "dbccbbd1",
   "metadata": {
    "ExecuteTime": {
     "end_time": "2023-02-04T10:36:29.299403Z",
     "start_time": "2023-02-04T10:36:28.990628Z"
    }
   },
   "outputs": [],
   "source": [
    "ax = gsp.shapeplot(\n",
    "    usa,\n",
    "    title=\"USA MAP\",\n",
    "    title_kwds={\"fontsize\": 25, \"fontname\": \"sans-serif\", \"fontweight\": 3},\n",
    ")\n",
    "gsp.shapeplot(lines, ax=ax, color=\"red\", linewidth=1)"
   ]
  },
  {
   "cell_type": "code",
   "execution_count": null,
   "id": "ec45f49c",
   "metadata": {},
   "outputs": [],
   "source": []
  }
 ],
 "metadata": {
  "hide_input": false,
  "kernelspec": {
   "display_name": "Python 3 (ipykernel)",
   "language": "python",
   "name": "python3"
  },
  "language_info": {
   "codemirror_mode": {
    "name": "ipython",
    "version": 3
   },
   "file_extension": ".py",
   "mimetype": "text/x-python",
   "name": "python",
   "nbconvert_exporter": "python",
   "pygments_lexer": "ipython3",
   "version": "3.10.8"
  },
  "varInspector": {
   "cols": {
    "lenName": 16,
    "lenType": 16,
    "lenVar": 40
   },
   "kernels_config": {
    "python": {
     "delete_cmd_postfix": "",
     "delete_cmd_prefix": "del ",
     "library": "var_list.py",
     "varRefreshCmd": "print(var_dic_list())"
    },
    "r": {
     "delete_cmd_postfix": ") ",
     "delete_cmd_prefix": "rm(",
     "library": "var_list.r",
     "varRefreshCmd": "cat(var_dic_list()) "
    }
   },
   "types_to_exclude": [
    "module",
    "function",
    "builtin_function_or_method",
    "instance",
    "_Feature"
   ],
   "window_display": false
  },
  "vscode": {
   "interpreter": {
    "hash": "29b5cbc376c6c32e8ff888a2a1c66eac646bba4d77927957d0111da7ae5b4852"
   }
  }
 },
 "nbformat": 4,
 "nbformat_minor": 5
}
