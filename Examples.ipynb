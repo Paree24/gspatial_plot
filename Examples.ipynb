{
 "cells": [
  {
   "cell_type": "code",
   "execution_count": null,
   "id": "7dadc8b4",
   "metadata": {
    "ExecuteTime": {
     "end_time": "2023-01-24T13:40:30.345256Z",
     "start_time": "2023-01-24T13:40:28.556670Z"
    },
    "scrolled": false
   },
   "outputs": [],
   "source": [
    "%load_ext nb_black\n",
    "import gspatial_plot as gsp\n",
    "import geopandas as gpd\n",
    "import numpy as np"
   ]
  },
  {
   "cell_type": "code",
   "execution_count": null,
   "id": "7f4f54f1",
   "metadata": {
    "ExecuteTime": {
     "end_time": "2023-01-24T13:40:30.396919Z",
     "start_time": "2023-01-24T13:40:30.347412Z"
    }
   },
   "outputs": [],
   "source": [
    "usa = gpd.read_file(\".gspatial_plot/datasets/us_census_2017.geojson\")"
   ]
  },
  {
   "cell_type": "code",
   "execution_count": null,
   "id": "fe2acc71",
   "metadata": {
    "ExecuteTime": {
     "end_time": "2023-01-24T13:40:30.418645Z",
     "start_time": "2023-01-24T13:40:30.400785Z"
    }
   },
   "outputs": [],
   "source": [
    "usa.head()"
   ]
  },
  {
   "cell_type": "code",
   "execution_count": null,
   "id": "de03ef5d",
   "metadata": {
    "ExecuteTime": {
     "end_time": "2023-01-24T13:40:30.434658Z",
     "start_time": "2023-01-24T13:40:30.421134Z"
    }
   },
   "outputs": [],
   "source": [
    "usa = usa[\n",
    "    ~usa[\"NAME\"].isin(\n",
    "        [\n",
    "            \"Hawaii\",\n",
    "            \"Guam\",\n",
    "            \"American Samoa\",\n",
    "            \"Commonwealth of the Northern Mariana Islands\",\n",
    "            \"Alaska\",\n",
    "        ]\n",
    "    )\n",
    "]"
   ]
  },
  {
   "cell_type": "code",
   "execution_count": null,
   "id": "e1e1caac",
   "metadata": {
    "ExecuteTime": {
     "end_time": "2023-01-24T13:40:30.764735Z",
     "start_time": "2023-01-24T13:40:30.437075Z"
    }
   },
   "outputs": [],
   "source": [
    "usa.plot()"
   ]
  },
  {
   "cell_type": "code",
   "execution_count": null,
   "id": "8b6b5200",
   "metadata": {
    "ExecuteTime": {
     "end_time": "2023-01-24T13:40:31.402049Z",
     "start_time": "2023-01-24T13:40:30.766807Z"
    },
    "scrolled": false
   },
   "outputs": [],
   "source": [
    "gsp.randommap(usa, seed=3, annot=True, annot_column=\"NAME\", figsize=(30, 30))"
   ]
  },
  {
   "cell_type": "code",
   "execution_count": null,
   "id": "d8acda72",
   "metadata": {
    "ExecuteTime": {
     "end_time": "2023-01-24T13:40:31.596951Z",
     "start_time": "2023-01-24T13:40:31.404869Z"
    }
   },
   "outputs": [],
   "source": [
    "gsp.shapeplot(usa, figsize=(15, 15))"
   ]
  },
  {
   "cell_type": "code",
   "execution_count": null,
   "id": "9b526363",
   "metadata": {
    "ExecuteTime": {
     "end_time": "2023-01-24T13:40:31.849225Z",
     "start_time": "2023-01-24T13:40:31.599808Z"
    },
    "scrolled": false
   },
   "outputs": [],
   "source": [
    "gsp.shapeplot(\n",
    "    usa,\n",
    "    title=\"USA MAP\",\n",
    "    title_kwds={\"fontsize\": 25, \"fontname\": \"Sawasdee\", \"fontweight\": 3},\n",
    ")"
   ]
  },
  {
   "cell_type": "code",
   "execution_count": null,
   "id": "3a8bd77c",
   "metadata": {
    "ExecuteTime": {
     "end_time": "2023-01-24T13:40:31.864841Z",
     "start_time": "2023-01-24T13:40:31.851781Z"
    }
   },
   "outputs": [],
   "source": [
    "usa_points = usa.copy()\n",
    "usa_points[\"geometry\"] = usa_points.representative_point()"
   ]
  },
  {
   "cell_type": "code",
   "execution_count": null,
   "id": "3f985581",
   "metadata": {
    "ExecuteTime": {
     "end_time": "2023-01-24T13:40:32.177218Z",
     "start_time": "2023-01-24T13:40:31.867525Z"
    },
    "scrolled": false
   },
   "outputs": [],
   "source": [
    "gsp.pointplot(usa_points, base=usa)"
   ]
  },
  {
   "cell_type": "code",
   "execution_count": null,
   "id": "b648c837",
   "metadata": {
    "ExecuteTime": {
     "end_time": "2023-01-24T13:40:32.370694Z",
     "start_time": "2023-01-24T13:40:32.179705Z"
    },
    "scrolled": false
   },
   "outputs": [],
   "source": [
    "gsp.pointplot(usa_points, base=usa, base_boundary=False)"
   ]
  },
  {
   "cell_type": "code",
   "execution_count": null,
   "id": "f0896db4",
   "metadata": {
    "ExecuteTime": {
     "end_time": "2023-01-24T13:40:32.567907Z",
     "start_time": "2023-01-24T13:40:32.380165Z"
    }
   },
   "outputs": [],
   "source": [
    "usa_points.plot()"
   ]
  },
  {
   "cell_type": "code",
   "execution_count": null,
   "id": "fb6de721",
   "metadata": {
    "ExecuteTime": {
     "end_time": "2023-01-24T13:40:32.703480Z",
     "start_time": "2023-01-24T13:40:32.571284Z"
    }
   },
   "outputs": [],
   "source": [
    "gsp.pointplot(usa_points)"
   ]
  },
  {
   "cell_type": "code",
   "execution_count": null,
   "id": "1b0285de",
   "metadata": {
    "ExecuteTime": {
     "end_time": "2023-01-24T13:40:32.912579Z",
     "start_time": "2023-01-24T13:40:32.707363Z"
    }
   },
   "outputs": [],
   "source": [
    "ax = gsp.shapeplot(usa, figsize=(15, 15))\n",
    "gsp.pointplot(usa_points, ax=ax)"
   ]
  },
  {
   "cell_type": "code",
   "execution_count": null,
   "id": "b586382c",
   "metadata": {
    "ExecuteTime": {
     "end_time": "2023-01-24T13:40:33.281227Z",
     "start_time": "2023-01-24T13:40:32.915582Z"
    },
    "scrolled": false
   },
   "outputs": [],
   "source": [
    "gsp.pointplot(\n",
    "    usa_points,\n",
    "    base=usa,\n",
    "    basecolor=\"#7aebff\",\n",
    "    base_boundary=False,\n",
    "    title=\"USA Points\",\n",
    "    title_kwds={\"fontsize\": 25, \"fontname\": \"Sawasdee\", \"fontweight\": 3},\n",
    ")"
   ]
  },
  {
   "cell_type": "code",
   "execution_count": null,
   "id": "27044b34",
   "metadata": {
    "ExecuteTime": {
     "end_time": "2023-01-24T13:40:33.306252Z",
     "start_time": "2023-01-24T13:40:33.284470Z"
    }
   },
   "outputs": [],
   "source": [
    "usa.head()"
   ]
  },
  {
   "cell_type": "code",
   "execution_count": null,
   "id": "e4a51a6f",
   "metadata": {
    "ExecuteTime": {
     "end_time": "2023-01-24T13:40:33.888751Z",
     "start_time": "2023-01-24T13:40:33.312046Z"
    },
    "scrolled": false
   },
   "outputs": [],
   "source": [
    "gsp.choropleth(usa, \"AWATER\")"
   ]
  },
  {
   "cell_type": "code",
   "execution_count": null,
   "id": "d32e3695",
   "metadata": {
    "ExecuteTime": {
     "end_time": "2023-01-24T13:40:34.247064Z",
     "start_time": "2023-01-24T13:40:33.893383Z"
    },
    "scrolled": false
   },
   "outputs": [],
   "source": [
    "gsp.choropleth(\n",
    "    usa,\n",
    "    \"AWATER\",\n",
    "    scheme=None,\n",
    "    scale_colorbar=True,\n",
    ")"
   ]
  },
  {
   "cell_type": "code",
   "execution_count": null,
   "id": "8aca1af7",
   "metadata": {
    "ExecuteTime": {
     "end_time": "2023-01-24T13:40:34.886340Z",
     "start_time": "2023-01-24T13:40:34.249820Z"
    },
    "scrolled": false
   },
   "outputs": [],
   "source": [
    "gsp.choropleth(\n",
    "    usa,\n",
    "    \"AWATER\",\n",
    "    cmap=\"Blues\",\n",
    "    figsize=(30, 30),\n",
    "    legend_kwds={\"loc\": \"lower left\", \"bbox_to_anchor\": (0, 0.2), \"prop\": {\"size\": 22}},\n",
    "    title=\"USA TOTAL WATER AREA\",\n",
    "    title_kwds={\n",
    "        \"fontsize\": 50,\n",
    "        \"fontname\": \"Sawasdee\",\n",
    "        \"fontweight\": 3,\n",
    "        \"loc\": \"right\",\n",
    "    },\n",
    ")"
   ]
  },
  {
   "cell_type": "code",
   "execution_count": null,
   "id": "f5b10141",
   "metadata": {
    "ExecuteTime": {
     "end_time": "2023-01-24T13:40:35.179335Z",
     "start_time": "2023-01-24T13:40:34.893497Z"
    },
    "scrolled": false
   },
   "outputs": [],
   "source": [
    "gsp.bubblemap(usa, usa[\"AWATER\"])"
   ]
  },
  {
   "cell_type": "code",
   "execution_count": null,
   "id": "f6c09b71",
   "metadata": {
    "ExecuteTime": {
     "end_time": "2023-01-24T13:40:35.511739Z",
     "start_time": "2023-01-24T13:40:35.183144Z"
    }
   },
   "outputs": [],
   "source": [
    "gsp.bubblemap(usa, usa[\"AWATER\"], scale_factor=400)"
   ]
  },
  {
   "cell_type": "code",
   "execution_count": null,
   "id": "2092e307",
   "metadata": {
    "ExecuteTime": {
     "end_time": "2023-01-24T13:40:35.524129Z",
     "start_time": "2023-01-24T13:40:35.513763Z"
    }
   },
   "outputs": [],
   "source": [
    "usa_points[\"value\"] = np.random.uniform(40, 4000, len(usa_points))"
   ]
  },
  {
   "cell_type": "code",
   "execution_count": null,
   "id": "1bde2941",
   "metadata": {
    "ExecuteTime": {
     "end_time": "2023-01-24T13:40:35.746678Z",
     "start_time": "2023-01-24T13:40:35.527072Z"
    },
    "scrolled": false
   },
   "outputs": [],
   "source": [
    "gsp.bubblemap(usa_points, \"value\", point_data=True)"
   ]
  },
  {
   "cell_type": "code",
   "execution_count": null,
   "id": "aa64faa4",
   "metadata": {
    "ExecuteTime": {
     "end_time": "2023-01-24T13:40:35.764492Z",
     "start_time": "2023-01-24T13:40:35.749246Z"
    }
   },
   "outputs": [],
   "source": [
    "usa_pts = usa.copy()\n",
    "usa_pts[\"geometry\"] = usa_pts.representative_point()"
   ]
  },
  {
   "cell_type": "code",
   "execution_count": null,
   "id": "e2f7f677",
   "metadata": {
    "ExecuteTime": {
     "end_time": "2023-01-24T13:40:36.000057Z",
     "start_time": "2023-01-24T13:40:35.767331Z"
    }
   },
   "outputs": [],
   "source": [
    "gsp.bubblemap(usa_pts, \"AWATER\", point_data=True)"
   ]
  },
  {
   "cell_type": "code",
   "execution_count": null,
   "id": "e295615e",
   "metadata": {
    "ExecuteTime": {
     "end_time": "2023-01-24T13:40:36.797226Z",
     "start_time": "2023-01-24T13:40:36.003022Z"
    }
   },
   "outputs": [],
   "source": [
    "gsp.bubblemap(\n",
    "    usa,\n",
    "    usa[\"AWATER\"],\n",
    "    cmap=\"Blues\",\n",
    "    figsize=(30, 30),\n",
    "    legend_kwds={\"loc\": \"lower left\", \"bbox_to_anchor\": (0, 0.2), \"prop\": {\"size\": 22}},\n",
    "    title=\"USA TOTAL WATER AREA\",\n",
    "    title_kwds={\n",
    "        \"fontsize\": 50,\n",
    "        \"fontname\": \"Sawasdee\",\n",
    "        \"fontweight\": 3,\n",
    "        \"loc\": \"right\",\n",
    "    },\n",
    "    scale_factor=2000,\n",
    ")"
   ]
  },
  {
   "cell_type": "code",
   "execution_count": null,
   "id": "493d79eb",
   "metadata": {
    "ExecuteTime": {
     "end_time": "2023-01-24T13:40:37.073921Z",
     "start_time": "2023-01-24T13:40:36.799003Z"
    },
    "scrolled": false
   },
   "outputs": [],
   "source": [
    "gsp.cartogram(\n",
    "    usa,\n",
    "    \"AWATER\",\n",
    ")"
   ]
  },
  {
   "cell_type": "code",
   "execution_count": null,
   "id": "7d10d539",
   "metadata": {
    "ExecuteTime": {
     "end_time": "2023-01-24T13:40:37.730107Z",
     "start_time": "2023-01-24T13:40:37.079265Z"
    },
    "scrolled": false
   },
   "outputs": [],
   "source": [
    "gsp.cartogram(\n",
    "    usa,\n",
    "    usa[\"AWATER\"],\n",
    "    cmap=\"Blues\",\n",
    "    figsize=(30, 30),\n",
    "    legend_kwds={\"loc\": \"lower left\", \"bbox_to_anchor\": (0, 0.2), \"prop\": {\"size\": 22}},\n",
    "    title=\"USA TOTAL WATER AREA\",\n",
    "    title_kwds={\n",
    "        \"fontsize\": 50,\n",
    "        \"fontname\": \"Sawasdee\",\n",
    "        \"fontweight\": 3,\n",
    "        \"loc\": \"right\",\n",
    "    },\n",
    ")"
   ]
  },
  {
   "cell_type": "code",
   "execution_count": null,
   "id": "ba246f55",
   "metadata": {
    "ExecuteTime": {
     "end_time": "2023-01-24T13:40:37.981001Z",
     "start_time": "2023-01-24T13:40:37.731826Z"
    }
   },
   "outputs": [],
   "source": [
    "gsp.densityplot(usa)"
   ]
  },
  {
   "cell_type": "code",
   "execution_count": null,
   "id": "4cb07471",
   "metadata": {
    "ExecuteTime": {
     "end_time": "2023-01-24T13:40:38.516002Z",
     "start_time": "2023-01-24T13:40:37.983155Z"
    },
    "scrolled": false
   },
   "outputs": [],
   "source": [
    "gsp.densityplot(usa, clip=True, clip_factor=1.5)"
   ]
  },
  {
   "cell_type": "code",
   "execution_count": null,
   "id": "326362fd",
   "metadata": {
    "ExecuteTime": {
     "end_time": "2023-01-24T13:40:38.836414Z",
     "start_time": "2023-01-24T13:40:38.518068Z"
    }
   },
   "outputs": [],
   "source": [
    "gsp.heatmap(usa, \"AWATER\")"
   ]
  },
  {
   "cell_type": "code",
   "execution_count": null,
   "id": "fdd9e1e0",
   "metadata": {
    "ExecuteTime": {
     "end_time": "2023-01-24T13:41:10.102408Z",
     "start_time": "2023-01-24T13:40:38.841920Z"
    }
   },
   "outputs": [],
   "source": [
    "gsp.heatmap(\n",
    "    usa,\n",
    "    \"AWATER\",\n",
    "    interpolate=True,\n",
    "    interpolation_grid_space=0.1,\n",
    "    clip=True,\n",
    ")"
   ]
  },
  {
   "cell_type": "code",
   "execution_count": null,
   "id": "456f8ed3",
   "metadata": {
    "ExecuteTime": {
     "end_time": "2023-01-24T13:41:10.837338Z",
     "start_time": "2023-01-24T13:41:10.103698Z"
    }
   },
   "outputs": [],
   "source": [
    "gsp.offline_static_basemap()"
   ]
  },
  {
   "cell_type": "code",
   "execution_count": null,
   "id": "d4c5ae56",
   "metadata": {
    "ExecuteTime": {
     "end_time": "2023-01-24T13:41:11.568143Z",
     "start_time": "2023-01-24T13:41:10.839627Z"
    }
   },
   "outputs": [],
   "source": [
    "ax = gsp.offline_static_basemap(bounds=usa.total_bounds)\n",
    "gsp.pointplot(usa_points, ax=ax)"
   ]
  },
  {
   "cell_type": "code",
   "execution_count": null,
   "id": "b6defaa2",
   "metadata": {
    "ExecuteTime": {
     "end_time": "2023-01-24T13:41:12.810942Z",
     "start_time": "2023-01-24T13:41:11.571365Z"
    },
    "scrolled": false
   },
   "outputs": [],
   "source": [
    "ax = gsp.offline_static_basemap(\n",
    "    bounds=usa.total_bounds,\n",
    "    landcolor=\"#DCE1B5\",\n",
    "    watercolor=\"#68BCFF\",\n",
    "    gridlines_alpha=0,\n",
    "    linewidth=0.5,\n",
    ")\n",
    "gsp.pointplot(usa_points, ax=ax)"
   ]
  },
  {
   "cell_type": "code",
   "execution_count": null,
   "id": "0a4174fa",
   "metadata": {
    "ExecuteTime": {
     "end_time": "2023-01-24T13:41:15.185881Z",
     "start_time": "2023-01-24T13:41:12.812950Z"
    }
   },
   "outputs": [],
   "source": [
    "gsp.offline_folium_basemap(crs=\"EPSG4326\")"
   ]
  }
 ],
 "metadata": {
  "hide_input": false,
  "kernelspec": {
   "display_name": "Python 3 (ipykernel)",
   "language": "python",
   "name": "python3"
  },
  "language_info": {
   "codemirror_mode": {
    "name": "ipython",
    "version": 3
   },
   "file_extension": ".py",
   "mimetype": "text/x-python",
   "name": "python",
   "nbconvert_exporter": "python",
   "pygments_lexer": "ipython3",
   "version": "3.9.12"
  },
  "varInspector": {
   "cols": {
    "lenName": 16,
    "lenType": 16,
    "lenVar": 40
   },
   "kernels_config": {
    "python": {
     "delete_cmd_postfix": "",
     "delete_cmd_prefix": "del ",
     "library": "var_list.py",
     "varRefreshCmd": "print(var_dic_list())"
    },
    "r": {
     "delete_cmd_postfix": ") ",
     "delete_cmd_prefix": "rm(",
     "library": "var_list.r",
     "varRefreshCmd": "cat(var_dic_list()) "
    }
   },
   "types_to_exclude": [
    "module",
    "function",
    "builtin_function_or_method",
    "instance",
    "_Feature"
   ],
   "window_display": false
  }
 },
 "nbformat": 4,
 "nbformat_minor": 5
}
