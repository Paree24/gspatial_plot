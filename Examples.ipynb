{
 "cells": [
  {
   "cell_type": "code",
   "execution_count": null,
   "id": "7dadc8b4",
   "metadata": {
    "ExecuteTime": {
     "end_time": "2023-01-24T20:42:47.541979Z",
     "start_time": "2023-01-24T20:42:45.664360Z"
    },
    "scrolled": false
   },
   "outputs": [],
   "source": [
    "%load_ext nb_black\n",
    "import gspatial_plot.plot as gsp\n",
    "import geopandas as gpd\n",
    "import numpy as np"
   ]
  },
  {
   "cell_type": "code",
   "execution_count": null,
   "id": "7f4f54f1",
   "metadata": {
    "ExecuteTime": {
     "end_time": "2023-01-24T20:45:10.885815Z",
     "start_time": "2023-01-24T20:45:10.880633Z"
    }
   },
   "outputs": [],
   "source": [
    "usa = gsp.us_states"
   ]
  },
  {
   "cell_type": "code",
   "execution_count": null,
   "id": "fe2acc71",
   "metadata": {
    "ExecuteTime": {
     "end_time": "2023-01-24T20:45:11.914451Z",
     "start_time": "2023-01-24T20:45:11.894288Z"
    }
   },
   "outputs": [],
   "source": [
    "usa.head()"
   ]
  },
  {
   "cell_type": "code",
   "execution_count": null,
   "id": "de03ef5d",
   "metadata": {
    "ExecuteTime": {
     "end_time": "2023-01-24T20:45:12.673983Z",
     "start_time": "2023-01-24T20:45:12.653774Z"
    }
   },
   "outputs": [],
   "source": [
    "usa = usa[\n",
    "    ~usa[\"NAME\"].isin(\n",
    "        [\n",
    "            \"Hawaii\",\n",
    "            \"Guam\",\n",
    "            \"American Samoa\",\n",
    "            \"Commonwealth of the Northern Mariana Islands\",\n",
    "            \"Alaska\",\n",
    "        ]\n",
    "    )\n",
    "]"
   ]
  },
  {
   "cell_type": "code",
   "execution_count": null,
   "id": "e1e1caac",
   "metadata": {
    "ExecuteTime": {
     "end_time": "2023-01-24T20:45:14.249516Z",
     "start_time": "2023-01-24T20:45:13.965971Z"
    }
   },
   "outputs": [],
   "source": [
    "usa.plot()"
   ]
  },
  {
   "cell_type": "code",
   "execution_count": null,
   "id": "8b6b5200",
   "metadata": {
    "ExecuteTime": {
     "end_time": "2023-01-24T20:45:15.470623Z",
     "start_time": "2023-01-24T20:45:14.966067Z"
    },
    "scrolled": false
   },
   "outputs": [],
   "source": [
    "gsp.randommap(usa, seed=3, annot=True, annot_column=\"NAME\", figsize=(30, 30))"
   ]
  },
  {
   "cell_type": "code",
   "execution_count": null,
   "id": "d8acda72",
   "metadata": {
    "ExecuteTime": {
     "end_time": "2023-01-24T20:45:16.816624Z",
     "start_time": "2023-01-24T20:45:16.687100Z"
    }
   },
   "outputs": [],
   "source": [
    "gsp.shapeplot(usa, figsize=(15, 15))"
   ]
  },
  {
   "cell_type": "code",
   "execution_count": null,
   "id": "9b526363",
   "metadata": {
    "ExecuteTime": {
     "end_time": "2023-01-24T20:45:18.194602Z",
     "start_time": "2023-01-24T20:45:18.024920Z"
    },
    "scrolled": false
   },
   "outputs": [],
   "source": [
    "gsp.shapeplot(\n",
    "    usa,\n",
    "    title=\"USA MAP\",\n",
    "    title_kwds={\"fontsize\": 25, \"fontname\": \"Sawasdee\", \"fontweight\": 3},\n",
    ")"
   ]
  },
  {
   "cell_type": "code",
   "execution_count": null,
   "id": "3a8bd77c",
   "metadata": {
    "ExecuteTime": {
     "end_time": "2023-01-24T20:45:19.300124Z",
     "start_time": "2023-01-24T20:45:19.285790Z"
    }
   },
   "outputs": [],
   "source": [
    "usa_points = usa.copy()\n",
    "usa_points[\"geometry\"] = usa_points.representative_point()"
   ]
  },
  {
   "cell_type": "code",
   "execution_count": null,
   "id": "3f985581",
   "metadata": {
    "ExecuteTime": {
     "end_time": "2023-01-24T20:45:20.347007Z",
     "start_time": "2023-01-24T20:45:20.125816Z"
    },
    "scrolled": false
   },
   "outputs": [],
   "source": [
    "gsp.pointplot(usa_points, base=usa)"
   ]
  },
  {
   "cell_type": "code",
   "execution_count": null,
   "id": "b648c837",
   "metadata": {
    "ExecuteTime": {
     "end_time": "2023-01-24T20:45:21.590802Z",
     "start_time": "2023-01-24T20:45:21.437886Z"
    },
    "scrolled": false
   },
   "outputs": [],
   "source": [
    "gsp.pointplot(usa_points, base=usa, base_boundary=False)"
   ]
  },
  {
   "cell_type": "code",
   "execution_count": null,
   "id": "f0896db4",
   "metadata": {
    "ExecuteTime": {
     "end_time": "2023-01-24T20:45:23.499502Z",
     "start_time": "2023-01-24T20:45:23.319610Z"
    }
   },
   "outputs": [],
   "source": [
    "usa_points.plot()"
   ]
  },
  {
   "cell_type": "code",
   "execution_count": null,
   "id": "fb6de721",
   "metadata": {
    "ExecuteTime": {
     "end_time": "2023-01-24T20:45:24.609636Z",
     "start_time": "2023-01-24T20:45:24.491390Z"
    }
   },
   "outputs": [],
   "source": [
    "gsp.pointplot(usa_points)"
   ]
  },
  {
   "cell_type": "code",
   "execution_count": null,
   "id": "1b0285de",
   "metadata": {
    "ExecuteTime": {
     "end_time": "2023-01-24T20:45:25.825372Z",
     "start_time": "2023-01-24T20:45:25.676807Z"
    }
   },
   "outputs": [],
   "source": [
    "ax = gsp.shapeplot(usa, figsize=(15, 15))\n",
    "gsp.pointplot(usa_points, ax=ax)"
   ]
  },
  {
   "cell_type": "code",
   "execution_count": null,
   "id": "b586382c",
   "metadata": {
    "ExecuteTime": {
     "end_time": "2023-01-24T20:45:27.022818Z",
     "start_time": "2023-01-24T20:45:26.809895Z"
    },
    "scrolled": false
   },
   "outputs": [],
   "source": [
    "gsp.pointplot(\n",
    "    usa_points,\n",
    "    base=usa,\n",
    "    basecolor=\"#7aebff\",\n",
    "    base_boundary=False,\n",
    "    title=\"USA Points\",\n",
    "    title_kwds={\"fontsize\": 25, \"fontname\": \"Sawasdee\", \"fontweight\": 3},\n",
    ")"
   ]
  },
  {
   "cell_type": "code",
   "execution_count": null,
   "id": "27044b34",
   "metadata": {
    "ExecuteTime": {
     "end_time": "2023-01-24T20:45:28.056140Z",
     "start_time": "2023-01-24T20:45:28.035282Z"
    }
   },
   "outputs": [],
   "source": [
    "usa.head()"
   ]
  },
  {
   "cell_type": "code",
   "execution_count": null,
   "id": "e4a51a6f",
   "metadata": {
    "ExecuteTime": {
     "end_time": "2023-01-24T20:45:31.369104Z",
     "start_time": "2023-01-24T20:45:29.257031Z"
    },
    "scrolled": false
   },
   "outputs": [],
   "source": [
    "gsp.choropleth(usa, \"AWATER\")"
   ]
  },
  {
   "cell_type": "code",
   "execution_count": null,
   "id": "d32e3695",
   "metadata": {
    "ExecuteTime": {
     "end_time": "2023-01-24T20:45:32.853833Z",
     "start_time": "2023-01-24T20:45:32.635986Z"
    },
    "scrolled": false
   },
   "outputs": [],
   "source": [
    "gsp.choropleth(\n",
    "    usa,\n",
    "    \"AWATER\",\n",
    "    scheme=None,\n",
    "    scale_colorbar=True,\n",
    ")"
   ]
  },
  {
   "cell_type": "code",
   "execution_count": null,
   "id": "8aca1af7",
   "metadata": {
    "ExecuteTime": {
     "end_time": "2023-01-24T20:45:33.734861Z",
     "start_time": "2023-01-24T20:45:33.264283Z"
    },
    "scrolled": false
   },
   "outputs": [],
   "source": [
    "gsp.choropleth(\n",
    "    usa,\n",
    "    \"AWATER\",\n",
    "    cmap=\"Blues\",\n",
    "    figsize=(30, 30),\n",
    "    legend_kwds={\"loc\": \"lower left\", \"bbox_to_anchor\": (0, 0.2), \"prop\": {\"size\": 22}},\n",
    "    title=\"USA TOTAL WATER AREA\",\n",
    "    title_kwds={\n",
    "        \"fontsize\": 50,\n",
    "        \"fontname\": \"Sawasdee\",\n",
    "        \"fontweight\": 3,\n",
    "        \"loc\": \"right\",\n",
    "    },\n",
    ")"
   ]
  },
  {
   "cell_type": "code",
   "execution_count": null,
   "id": "f5b10141",
   "metadata": {
    "ExecuteTime": {
     "end_time": "2023-01-24T20:45:34.126111Z",
     "start_time": "2023-01-24T20:45:33.852744Z"
    },
    "scrolled": false
   },
   "outputs": [],
   "source": [
    "gsp.bubblemap(usa, usa[\"AWATER\"])"
   ]
  },
  {
   "cell_type": "code",
   "execution_count": null,
   "id": "f6c09b71",
   "metadata": {
    "ExecuteTime": {
     "end_time": "2023-01-24T20:45:34.700663Z",
     "start_time": "2023-01-24T20:45:34.486577Z"
    }
   },
   "outputs": [],
   "source": [
    "gsp.bubblemap(usa, usa[\"AWATER\"], scale_factor=400)"
   ]
  },
  {
   "cell_type": "code",
   "execution_count": null,
   "id": "2092e307",
   "metadata": {
    "ExecuteTime": {
     "end_time": "2023-01-24T20:45:35.050273Z",
     "start_time": "2023-01-24T20:45:35.038088Z"
    }
   },
   "outputs": [],
   "source": [
    "usa_points[\"value\"] = np.random.uniform(40, 4000, len(usa_points))"
   ]
  },
  {
   "cell_type": "code",
   "execution_count": null,
   "id": "1bde2941",
   "metadata": {
    "ExecuteTime": {
     "end_time": "2023-01-24T20:45:35.764043Z",
     "start_time": "2023-01-24T20:45:35.587884Z"
    },
    "scrolled": false
   },
   "outputs": [],
   "source": [
    "gsp.bubblemap(usa_points, \"value\", point_data=True)"
   ]
  },
  {
   "cell_type": "code",
   "execution_count": null,
   "id": "aa64faa4",
   "metadata": {
    "ExecuteTime": {
     "end_time": "2023-01-24T20:45:36.124761Z",
     "start_time": "2023-01-24T20:45:36.110395Z"
    }
   },
   "outputs": [],
   "source": [
    "usa_pts = usa.copy()\n",
    "usa_pts[\"geometry\"] = usa_pts.representative_point()"
   ]
  },
  {
   "cell_type": "code",
   "execution_count": null,
   "id": "e2f7f677",
   "metadata": {
    "ExecuteTime": {
     "end_time": "2023-01-24T20:45:36.771029Z",
     "start_time": "2023-01-24T20:45:36.604003Z"
    }
   },
   "outputs": [],
   "source": [
    "gsp.bubblemap(usa_pts, \"AWATER\", point_data=True)"
   ]
  },
  {
   "cell_type": "code",
   "execution_count": null,
   "id": "e295615e",
   "metadata": {
    "ExecuteTime": {
     "end_time": "2023-01-24T20:45:37.645986Z",
     "start_time": "2023-01-24T20:45:37.154909Z"
    }
   },
   "outputs": [],
   "source": [
    "gsp.bubblemap(\n",
    "    usa,\n",
    "    usa[\"AWATER\"],\n",
    "    cmap=\"Blues\",\n",
    "    figsize=(30, 30),\n",
    "    legend_kwds={\"loc\": \"lower left\", \"bbox_to_anchor\": (0, 0.2), \"prop\": {\"size\": 22}},\n",
    "    title=\"USA TOTAL WATER AREA\",\n",
    "    title_kwds={\n",
    "        \"fontsize\": 50,\n",
    "        \"fontname\": \"Sawasdee\",\n",
    "        \"fontweight\": 3,\n",
    "        \"loc\": \"right\",\n",
    "    },\n",
    "    scale_factor=2000,\n",
    ")"
   ]
  },
  {
   "cell_type": "code",
   "execution_count": null,
   "id": "493d79eb",
   "metadata": {
    "ExecuteTime": {
     "end_time": "2023-01-24T20:45:38.011346Z",
     "start_time": "2023-01-24T20:45:37.748111Z"
    },
    "scrolled": false
   },
   "outputs": [],
   "source": [
    "gsp.cartogram(\n",
    "    usa,\n",
    "    \"AWATER\",\n",
    ")"
   ]
  },
  {
   "cell_type": "code",
   "execution_count": null,
   "id": "7d10d539",
   "metadata": {
    "ExecuteTime": {
     "end_time": "2023-01-24T20:45:41.668861Z",
     "start_time": "2023-01-24T20:45:41.198562Z"
    },
    "scrolled": false
   },
   "outputs": [],
   "source": [
    "gsp.cartogram(\n",
    "    usa,\n",
    "    usa[\"AWATER\"],\n",
    "    cmap=\"Blues\",\n",
    "    figsize=(30, 30),\n",
    "    legend_kwds={\"loc\": \"lower left\", \"bbox_to_anchor\": (0, 0.2), \"prop\": {\"size\": 22}},\n",
    "    title=\"USA TOTAL WATER AREA\",\n",
    "    title_kwds={\n",
    "        \"fontsize\": 50,\n",
    "        \"fontname\": \"Sawasdee\",\n",
    "        \"fontweight\": 3,\n",
    "        \"loc\": \"right\",\n",
    "    },\n",
    ")"
   ]
  },
  {
   "cell_type": "code",
   "execution_count": null,
   "id": "ba246f55",
   "metadata": {
    "ExecuteTime": {
     "end_time": "2023-01-24T20:45:43.172723Z",
     "start_time": "2023-01-24T20:45:42.990473Z"
    }
   },
   "outputs": [],
   "source": [
    "gsp.densityplot(usa)"
   ]
  },
  {
   "cell_type": "code",
   "execution_count": null,
   "id": "4cb07471",
   "metadata": {
    "ExecuteTime": {
     "end_time": "2023-01-24T20:45:44.600608Z",
     "start_time": "2023-01-24T20:45:44.267526Z"
    },
    "scrolled": false
   },
   "outputs": [],
   "source": [
    "gsp.densityplot(usa, clip=True, clip_factor=1.5)"
   ]
  },
  {
   "cell_type": "code",
   "execution_count": null,
   "id": "326362fd",
   "metadata": {
    "ExecuteTime": {
     "end_time": "2023-01-24T20:45:45.746826Z",
     "start_time": "2023-01-24T20:45:45.549578Z"
    }
   },
   "outputs": [],
   "source": [
    "gsp.heatmap(usa, \"AWATER\")"
   ]
  },
  {
   "cell_type": "code",
   "execution_count": null,
   "id": "fdd9e1e0",
   "metadata": {
    "ExecuteTime": {
     "end_time": "2023-01-24T20:46:19.369328Z",
     "start_time": "2023-01-24T20:45:47.005989Z"
    }
   },
   "outputs": [],
   "source": [
    "gsp.heatmap(\n",
    "    usa,\n",
    "    \"AWATER\",\n",
    "    interpolate=True,\n",
    "    interpolation_grid_space=0.1,\n",
    "    clip=True,\n",
    ")"
   ]
  },
  {
   "cell_type": "code",
   "execution_count": null,
   "id": "456f8ed3",
   "metadata": {
    "ExecuteTime": {
     "end_time": "2023-01-24T20:46:21.917867Z",
     "start_time": "2023-01-24T20:46:21.083404Z"
    }
   },
   "outputs": [],
   "source": [
    "gsp.offline_static_basemap()"
   ]
  },
  {
   "cell_type": "code",
   "execution_count": null,
   "id": "d4c5ae56",
   "metadata": {
    "ExecuteTime": {
     "end_time": "2023-01-24T20:46:23.853014Z",
     "start_time": "2023-01-24T20:46:23.201142Z"
    }
   },
   "outputs": [],
   "source": [
    "ax = gsp.offline_static_basemap(bounds=usa.total_bounds)\n",
    "gsp.pointplot(usa_points, ax=ax)"
   ]
  },
  {
   "cell_type": "code",
   "execution_count": null,
   "id": "b6defaa2",
   "metadata": {
    "ExecuteTime": {
     "end_time": "2023-01-24T20:46:25.782272Z",
     "start_time": "2023-01-24T20:46:25.051727Z"
    },
    "scrolled": false
   },
   "outputs": [],
   "source": [
    "ax = gsp.offline_static_basemap(\n",
    "    bounds=usa.total_bounds,\n",
    "    landcolor=\"#DCE1B5\",\n",
    "    watercolor=\"#68BCFF\",\n",
    "    gridlines_alpha=0,\n",
    "    linewidth=0.5,\n",
    ")\n",
    "gsp.pointplot(usa_points, ax=ax)"
   ]
  },
  {
   "cell_type": "code",
   "execution_count": null,
   "id": "0a4174fa",
   "metadata": {
    "ExecuteTime": {
     "end_time": "2023-01-24T20:46:28.992492Z",
     "start_time": "2023-01-24T20:46:26.914208Z"
    }
   },
   "outputs": [],
   "source": [
    "gsp.offline_folium_basemap(crs=\"EPSG4326\")"
   ]
  },
  {
   "cell_type": "code",
   "execution_count": null,
   "id": "7c9f3df1",
   "metadata": {},
   "outputs": [],
   "source": []
  }
 ],
 "metadata": {
  "hide_input": false,
  "kernelspec": {
   "display_name": "Python 3 (ipykernel)",
   "language": "python",
   "name": "python3"
  },
  "language_info": {
   "codemirror_mode": {
    "name": "ipython",
    "version": 3
   },
   "file_extension": ".py",
   "mimetype": "text/x-python",
   "name": "python",
   "nbconvert_exporter": "python",
   "pygments_lexer": "ipython3",
   "version": "3.9.12"
  },
  "varInspector": {
   "cols": {
    "lenName": 16,
    "lenType": 16,
    "lenVar": 40
   },
   "kernels_config": {
    "python": {
     "delete_cmd_postfix": "",
     "delete_cmd_prefix": "del ",
     "library": "var_list.py",
     "varRefreshCmd": "print(var_dic_list())"
    },
    "r": {
     "delete_cmd_postfix": ") ",
     "delete_cmd_prefix": "rm(",
     "library": "var_list.r",
     "varRefreshCmd": "cat(var_dic_list()) "
    }
   },
   "types_to_exclude": [
    "module",
    "function",
    "builtin_function_or_method",
    "instance",
    "_Feature"
   ],
   "window_display": false
  },
  "vscode": {
   "interpreter": {
    "hash": "29b5cbc376c6c32e8ff888a2a1c66eac646bba4d77927957d0111da7ae5b4852"
   }
  }
 },
 "nbformat": 4,
 "nbformat_minor": 5
}
