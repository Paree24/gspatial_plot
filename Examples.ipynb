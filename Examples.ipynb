{
 "cells": [
  {
   "cell_type": "code",
   "execution_count": null,
   "id": "7dadc8b4",
   "metadata": {
    "ExecuteTime": {
     "end_time": "2023-02-03T21:07:43.869008Z",
     "start_time": "2023-02-03T21:07:40.476302Z"
    },
    "scrolled": false
   },
   "outputs": [],
   "source": [
    "%load_ext nb_black\n",
    "import gspatial_plot as gsp\n",
    "import geopandas as gpd\n",
    "import numpy as np"
   ]
  },
  {
   "cell_type": "code",
   "execution_count": null,
   "id": "7f4f54f1",
   "metadata": {
    "ExecuteTime": {
     "end_time": "2023-02-03T21:07:43.874929Z",
     "start_time": "2023-02-03T21:07:43.870717Z"
    }
   },
   "outputs": [],
   "source": [
    "usa = gsp.us_states"
   ]
  },
  {
   "cell_type": "code",
   "execution_count": null,
   "id": "fe2acc71",
   "metadata": {
    "ExecuteTime": {
     "end_time": "2023-02-03T21:07:43.894416Z",
     "start_time": "2023-02-03T21:07:43.878037Z"
    }
   },
   "outputs": [],
   "source": [
    "usa.head()"
   ]
  },
  {
   "cell_type": "code",
   "execution_count": null,
   "id": "de03ef5d",
   "metadata": {
    "ExecuteTime": {
     "end_time": "2023-02-03T21:07:43.906367Z",
     "start_time": "2023-02-03T21:07:43.896111Z"
    }
   },
   "outputs": [],
   "source": [
    "usa = usa[\n",
    "    ~usa[\"NAME\"].isin(\n",
    "        [\n",
    "            \"Hawaii\",\n",
    "            \"Guam\",\n",
    "            \"American Samoa\",\n",
    "            \"Commonwealth of the Northern Mariana Islands\",\n",
    "            \"Alaska\",\n",
    "        ]\n",
    "    )\n",
    "]"
   ]
  },
  {
   "cell_type": "code",
   "execution_count": null,
   "id": "e1e1caac",
   "metadata": {
    "ExecuteTime": {
     "end_time": "2023-02-03T21:07:44.128928Z",
     "start_time": "2023-02-03T21:07:43.910893Z"
    }
   },
   "outputs": [],
   "source": [
    "usa.plot()"
   ]
  },
  {
   "cell_type": "code",
   "execution_count": null,
   "id": "8b6b5200",
   "metadata": {
    "ExecuteTime": {
     "end_time": "2023-02-03T21:07:44.736836Z",
     "start_time": "2023-02-03T21:07:44.130996Z"
    },
    "scrolled": false
   },
   "outputs": [],
   "source": [
    "gsp.randommap(usa, seed=3, annot=True, annot_column=\"NAME\", figsize=(30, 30))"
   ]
  },
  {
   "cell_type": "code",
   "execution_count": null,
   "id": "d8acda72",
   "metadata": {
    "ExecuteTime": {
     "end_time": "2023-02-03T21:07:44.885760Z",
     "start_time": "2023-02-03T21:07:44.739290Z"
    }
   },
   "outputs": [],
   "source": [
    "gsp.shapeplot(usa, figsize=(15, 15))"
   ]
  },
  {
   "cell_type": "code",
   "execution_count": null,
   "id": "9b526363",
   "metadata": {
    "ExecuteTime": {
     "end_time": "2023-02-03T21:07:45.116773Z",
     "start_time": "2023-02-03T21:07:44.889479Z"
    },
    "scrolled": false
   },
   "outputs": [],
   "source": [
    "gsp.shapeplot(\n",
    "    usa,\n",
    "    title=\"USA MAP\",\n",
    "    title_kwds={\"fontsize\": 25, \"fontname\": \"Sawasdee\", \"fontweight\": 3},\n",
    ")"
   ]
  },
  {
   "cell_type": "code",
   "execution_count": null,
   "id": "3a8bd77c",
   "metadata": {
    "ExecuteTime": {
     "end_time": "2023-02-03T21:07:45.133486Z",
     "start_time": "2023-02-03T21:07:45.119372Z"
    }
   },
   "outputs": [],
   "source": [
    "usa_points = usa.copy()\n",
    "usa_points[\"geometry\"] = usa_points.representative_point()"
   ]
  },
  {
   "cell_type": "code",
   "execution_count": null,
   "id": "3f985581",
   "metadata": {
    "ExecuteTime": {
     "end_time": "2023-02-03T21:07:45.397458Z",
     "start_time": "2023-02-03T21:07:45.136091Z"
    },
    "scrolled": false
   },
   "outputs": [],
   "source": [
    "gsp.pointplot(usa_points, base=usa)"
   ]
  },
  {
   "cell_type": "code",
   "execution_count": null,
   "id": "b648c837",
   "metadata": {
    "ExecuteTime": {
     "end_time": "2023-02-03T21:07:45.596440Z",
     "start_time": "2023-02-03T21:07:45.400491Z"
    },
    "scrolled": false
   },
   "outputs": [],
   "source": [
    "gsp.pointplot(usa_points, base=usa, base_boundary=False)"
   ]
  },
  {
   "cell_type": "code",
   "execution_count": null,
   "id": "f0896db4",
   "metadata": {
    "ExecuteTime": {
     "end_time": "2023-02-03T21:07:45.777556Z",
     "start_time": "2023-02-03T21:07:45.603781Z"
    }
   },
   "outputs": [],
   "source": [
    "usa_points.plot()"
   ]
  },
  {
   "cell_type": "code",
   "execution_count": null,
   "id": "fb6de721",
   "metadata": {
    "ExecuteTime": {
     "end_time": "2023-02-03T21:07:45.911188Z",
     "start_time": "2023-02-03T21:07:45.779590Z"
    }
   },
   "outputs": [],
   "source": [
    "gsp.pointplot(usa_points)"
   ]
  },
  {
   "cell_type": "code",
   "execution_count": null,
   "id": "1b0285de",
   "metadata": {
    "ExecuteTime": {
     "end_time": "2023-02-03T21:07:46.151495Z",
     "start_time": "2023-02-03T21:07:45.914249Z"
    }
   },
   "outputs": [],
   "source": [
    "ax = gsp.shapeplot(usa, figsize=(15, 15))\n",
    "gsp.pointplot(usa_points, ax=ax)"
   ]
  },
  {
   "cell_type": "code",
   "execution_count": null,
   "id": "b586382c",
   "metadata": {
    "ExecuteTime": {
     "end_time": "2023-02-03T21:07:46.495907Z",
     "start_time": "2023-02-03T21:07:46.154942Z"
    },
    "scrolled": false
   },
   "outputs": [],
   "source": [
    "gsp.pointplot(\n",
    "    usa_points,\n",
    "    base=usa,\n",
    "    basecolor=\"#7aebff\",\n",
    "    base_boundary=False,\n",
    "    title=\"USA Points\",\n",
    "    title_kwds={\"fontsize\": 25, \"fontname\": \"Sawasdee\", \"fontweight\": 3},\n",
    ")"
   ]
  },
  {
   "cell_type": "code",
   "execution_count": null,
   "id": "27044b34",
   "metadata": {
    "ExecuteTime": {
     "end_time": "2023-02-03T21:07:46.522091Z",
     "start_time": "2023-02-03T21:07:46.498600Z"
    }
   },
   "outputs": [],
   "source": [
    "usa.head()"
   ]
  },
  {
   "cell_type": "code",
   "execution_count": null,
   "id": "e4a51a6f",
   "metadata": {
    "ExecuteTime": {
     "end_time": "2023-02-03T21:07:47.197578Z",
     "start_time": "2023-02-03T21:07:46.529496Z"
    },
    "scrolled": false
   },
   "outputs": [],
   "source": [
    "gsp.choropleth(usa, \"AWATER\")"
   ]
  },
  {
   "cell_type": "code",
   "execution_count": null,
   "id": "d32e3695",
   "metadata": {
    "ExecuteTime": {
     "end_time": "2023-02-03T21:07:47.501016Z",
     "start_time": "2023-02-03T21:07:47.200451Z"
    },
    "scrolled": false
   },
   "outputs": [],
   "source": [
    "gsp.choropleth(\n",
    "    usa,\n",
    "    \"AWATER\",\n",
    "    scheme=None,\n",
    "    scale_colorbar=True,\n",
    ")"
   ]
  },
  {
   "cell_type": "code",
   "execution_count": null,
   "id": "8aca1af7",
   "metadata": {
    "ExecuteTime": {
     "end_time": "2023-02-03T21:07:48.080578Z",
     "start_time": "2023-02-03T21:07:47.504177Z"
    },
    "scrolled": false
   },
   "outputs": [],
   "source": [
    "gsp.choropleth(\n",
    "    usa,\n",
    "    \"AWATER\",\n",
    "    cmap=\"Blues\",\n",
    "    figsize=(30, 30),\n",
    "    legend_kwds={\"loc\": \"lower left\", \"bbox_to_anchor\": (0, 0.2), \"prop\": {\"size\": 22}},\n",
    "    title=\"USA TOTAL WATER AREA\",\n",
    "    title_kwds={\n",
    "        \"fontsize\": 50,\n",
    "        \"fontname\": \"Sawasdee\",\n",
    "        \"fontweight\": 3,\n",
    "        \"loc\": \"right\",\n",
    "    },\n",
    ")"
   ]
  },
  {
   "cell_type": "code",
   "execution_count": null,
   "id": "f5b10141",
   "metadata": {
    "ExecuteTime": {
     "end_time": "2023-02-03T21:07:48.332487Z",
     "start_time": "2023-02-03T21:07:48.081864Z"
    },
    "scrolled": false
   },
   "outputs": [],
   "source": [
    "gsp.bubblemap(usa, usa[\"AWATER\"])"
   ]
  },
  {
   "cell_type": "code",
   "execution_count": null,
   "id": "f6c09b71",
   "metadata": {
    "ExecuteTime": {
     "end_time": "2023-02-03T21:07:48.596592Z",
     "start_time": "2023-02-03T21:07:48.334979Z"
    }
   },
   "outputs": [],
   "source": [
    "gsp.bubblemap(usa, usa[\"AWATER\"], scale_factor=400)"
   ]
  },
  {
   "cell_type": "code",
   "execution_count": null,
   "id": "2092e307",
   "metadata": {
    "ExecuteTime": {
     "end_time": "2023-02-03T21:07:48.609274Z",
     "start_time": "2023-02-03T21:07:48.598838Z"
    }
   },
   "outputs": [],
   "source": [
    "usa_points[\"value\"] = np.random.uniform(40, 4000, len(usa_points))"
   ]
  },
  {
   "cell_type": "code",
   "execution_count": null,
   "id": "1bde2941",
   "metadata": {
    "ExecuteTime": {
     "end_time": "2023-02-03T21:07:48.882747Z",
     "start_time": "2023-02-03T21:07:48.611649Z"
    },
    "scrolled": false
   },
   "outputs": [],
   "source": [
    "gsp.bubblemap(usa_points, \"value\", point_data=True)"
   ]
  },
  {
   "cell_type": "code",
   "execution_count": null,
   "id": "aa64faa4",
   "metadata": {
    "ExecuteTime": {
     "end_time": "2023-02-03T21:07:48.899111Z",
     "start_time": "2023-02-03T21:07:48.885430Z"
    }
   },
   "outputs": [],
   "source": [
    "usa_pts = usa.copy()\n",
    "usa_pts[\"geometry\"] = usa_pts.representative_point()"
   ]
  },
  {
   "cell_type": "code",
   "execution_count": null,
   "id": "e2f7f677",
   "metadata": {
    "ExecuteTime": {
     "end_time": "2023-02-03T21:07:49.108536Z",
     "start_time": "2023-02-03T21:07:48.901471Z"
    }
   },
   "outputs": [],
   "source": [
    "gsp.bubblemap(usa_pts, \"AWATER\", point_data=True)"
   ]
  },
  {
   "cell_type": "code",
   "execution_count": null,
   "id": "e295615e",
   "metadata": {
    "ExecuteTime": {
     "end_time": "2023-02-03T21:07:49.831192Z",
     "start_time": "2023-02-03T21:07:49.111696Z"
    }
   },
   "outputs": [],
   "source": [
    "gsp.bubblemap(\n",
    "    usa,\n",
    "    usa[\"AWATER\"],\n",
    "    cmap=\"Blues\",\n",
    "    figsize=(30, 30),\n",
    "    legend_kwds={\"loc\": \"lower left\", \"bbox_to_anchor\": (0, 0.2), \"prop\": {\"size\": 22}},\n",
    "    title=\"USA TOTAL WATER AREA\",\n",
    "    title_kwds={\n",
    "        \"fontsize\": 50,\n",
    "        \"fontname\": \"Sawasdee\",\n",
    "        \"fontweight\": 3,\n",
    "        \"loc\": \"right\",\n",
    "    },\n",
    "    scale_factor=2000,\n",
    ")"
   ]
  },
  {
   "cell_type": "code",
   "execution_count": null,
   "id": "493d79eb",
   "metadata": {
    "ExecuteTime": {
     "end_time": "2023-02-03T21:07:50.129210Z",
     "start_time": "2023-02-03T21:07:49.832754Z"
    },
    "scrolled": false
   },
   "outputs": [],
   "source": [
    "gsp.cartogram(\n",
    "    usa,\n",
    "    \"AWATER\",\n",
    ")"
   ]
  },
  {
   "cell_type": "code",
   "execution_count": null,
   "id": "7d10d539",
   "metadata": {
    "ExecuteTime": {
     "end_time": "2023-02-03T21:07:50.749320Z",
     "start_time": "2023-02-03T21:07:50.131807Z"
    },
    "scrolled": false
   },
   "outputs": [],
   "source": [
    "gsp.cartogram(\n",
    "    usa,\n",
    "    usa[\"AWATER\"],\n",
    "    cmap=\"Blues\",\n",
    "    figsize=(30, 30),\n",
    "    legend_kwds={\"loc\": \"lower left\", \"bbox_to_anchor\": (0, 0.2), \"prop\": {\"size\": 22}},\n",
    "    title=\"USA TOTAL WATER AREA\",\n",
    "    title_kwds={\n",
    "        \"fontsize\": 50,\n",
    "        \"fontname\": \"Sawasdee\",\n",
    "        \"fontweight\": 3,\n",
    "        \"loc\": \"right\",\n",
    "    },\n",
    ")"
   ]
  },
  {
   "cell_type": "code",
   "execution_count": null,
   "id": "ba246f55",
   "metadata": {
    "ExecuteTime": {
     "end_time": "2023-02-03T21:07:51.059133Z",
     "start_time": "2023-02-03T21:07:50.750813Z"
    }
   },
   "outputs": [],
   "source": [
    "gsp.densityplot(usa)"
   ]
  },
  {
   "cell_type": "code",
   "execution_count": null,
   "id": "4cb07471",
   "metadata": {
    "ExecuteTime": {
     "end_time": "2023-02-03T21:07:51.538163Z",
     "start_time": "2023-02-03T21:07:51.062315Z"
    },
    "scrolled": false
   },
   "outputs": [],
   "source": [
    "gsp.densityplot(usa, clip=True, clip_factor=1.5)"
   ]
  },
  {
   "cell_type": "code",
   "execution_count": null,
   "id": "326362fd",
   "metadata": {
    "ExecuteTime": {
     "end_time": "2023-02-03T21:07:51.762875Z",
     "start_time": "2023-02-03T21:07:51.539938Z"
    }
   },
   "outputs": [],
   "source": [
    "gsp.heatmap(usa, \"AWATER\")"
   ]
  },
  {
   "cell_type": "code",
   "execution_count": null,
   "id": "fdd9e1e0",
   "metadata": {
    "ExecuteTime": {
     "end_time": "2023-02-03T21:08:10.628320Z",
     "start_time": "2023-02-03T21:07:51.765435Z"
    }
   },
   "outputs": [],
   "source": [
    "gsp.heatmap(\n",
    "    usa,\n",
    "    \"AWATER\",\n",
    "    interpolate=True,\n",
    "    interpolation_grid_space=0.1,\n",
    "    clip=True,\n",
    ")"
   ]
  },
  {
   "cell_type": "code",
   "execution_count": null,
   "id": "456f8ed3",
   "metadata": {
    "ExecuteTime": {
     "end_time": "2023-02-03T21:08:11.426325Z",
     "start_time": "2023-02-03T21:08:10.629836Z"
    }
   },
   "outputs": [],
   "source": [
    "gsp.offline_static_basemap()"
   ]
  },
  {
   "cell_type": "code",
   "execution_count": null,
   "id": "d4c5ae56",
   "metadata": {
    "ExecuteTime": {
     "end_time": "2023-02-03T21:08:12.141295Z",
     "start_time": "2023-02-03T21:08:11.428120Z"
    }
   },
   "outputs": [],
   "source": [
    "ax = gsp.offline_static_basemap(bounds=usa.total_bounds)\n",
    "gsp.pointplot(usa_points, ax=ax)"
   ]
  },
  {
   "cell_type": "code",
   "execution_count": null,
   "id": "b6defaa2",
   "metadata": {
    "ExecuteTime": {
     "end_time": "2023-02-03T21:08:12.959817Z",
     "start_time": "2023-02-03T21:08:12.143427Z"
    },
    "scrolled": false
   },
   "outputs": [],
   "source": [
    "ax = gsp.offline_static_basemap(\n",
    "    bounds=usa.total_bounds,\n",
    "    landcolor=\"#DCE1B5\",\n",
    "    watercolor=\"#68BCFF\",\n",
    "    gridlines_alpha=0,\n",
    "    linewidth=0.5,\n",
    ")\n",
    "gsp.pointplot(usa_points, ax=ax)"
   ]
  },
  {
   "cell_type": "code",
   "execution_count": null,
   "id": "0a4174fa",
   "metadata": {
    "ExecuteTime": {
     "end_time": "2023-02-03T21:08:15.109931Z",
     "start_time": "2023-02-03T21:08:12.962478Z"
    }
   },
   "outputs": [],
   "source": [
    "gsp.offline_folium_basemap(crs=\"EPSG4326\")"
   ]
  },
  {
   "cell_type": "code",
   "execution_count": null,
   "id": "7c9f3df1",
   "metadata": {
    "ExecuteTime": {
     "end_time": "2023-02-03T21:08:15.423085Z",
     "start_time": "2023-02-03T21:08:15.111891Z"
    }
   },
   "outputs": [],
   "source": [
    "gsp.spikemap(usa, \"AWATER\")"
   ]
  },
  {
   "cell_type": "code",
   "execution_count": null,
   "id": "e6e23f92",
   "metadata": {
    "ExecuteTime": {
     "end_time": "2023-02-03T21:08:15.548593Z",
     "start_time": "2023-02-03T21:08:15.426484Z"
    }
   },
   "outputs": [],
   "source": [
    "usa_moll = usa.to_crs(\"ESRI:54009\")"
   ]
  },
  {
   "cell_type": "code",
   "execution_count": null,
   "id": "9023f99b",
   "metadata": {
    "ExecuteTime": {
     "end_time": "2023-02-03T21:08:15.926342Z",
     "start_time": "2023-02-03T21:08:15.556892Z"
    }
   },
   "outputs": [],
   "source": [
    "gsp.spikemap(usa_moll, \"AWATER\", x_scale_factor=10, y_scale_factor=10, not_wgs84=True)"
   ]
  },
  {
   "cell_type": "code",
   "execution_count": null,
   "id": "3daa5cea",
   "metadata": {
    "ExecuteTime": {
     "end_time": "2023-02-03T21:08:16.521072Z",
     "start_time": "2023-02-03T21:08:15.929511Z"
    }
   },
   "outputs": [],
   "source": [
    "gsp.spikemap(\n",
    "    usa,\n",
    "    usa[\"AWATER\"],\n",
    "    cmap=\"Blues\",\n",
    "    figsize=(30, 30),\n",
    "    legend_kwds={\"loc\": \"lower left\", \"bbox_to_anchor\": (0, 0.2), \"prop\": {\"size\": 22}},\n",
    "    title=\"USA TOTAL WATER AREA\",\n",
    "    title_kwds={\n",
    "        \"fontsize\": 50,\n",
    "        \"fontname\": \"Sawasdee\",\n",
    "        \"fontweight\": 3,\n",
    "        \"loc\": \"right\",\n",
    "    },\n",
    ")"
   ]
  },
  {
   "cell_type": "code",
   "execution_count": null,
   "id": "c5cb8068",
   "metadata": {
    "ExecuteTime": {
     "end_time": "2023-02-03T21:08:17.165634Z",
     "start_time": "2023-02-03T21:08:16.523009Z"
    },
    "scrolled": false
   },
   "outputs": [],
   "source": [
    "gsp.spikemap(\n",
    "    usa,\n",
    "    usa[\"AWATER\"],\n",
    "    shape=\"rectangle\",\n",
    "    cmap=\"Blues\",\n",
    "    figsize=(30, 30),\n",
    "    legend_kwds={\"loc\": \"lower left\", \"bbox_to_anchor\": (0, 0.2), \"prop\": {\"size\": 22}},\n",
    "    title=\"USA TOTAL WATER AREA\",\n",
    "    title_kwds={\n",
    "        \"fontsize\": 50,\n",
    "        \"fontname\": \"Sawasdee\",\n",
    "        \"fontweight\": 3,\n",
    "        \"loc\": \"right\",\n",
    "    },\n",
    ")"
   ]
  },
  {
   "cell_type": "code",
   "execution_count": null,
   "id": "66f023ea",
   "metadata": {},
   "outputs": [],
   "source": []
  }
 ],
 "metadata": {
  "hide_input": false,
  "kernelspec": {
   "display_name": "Python 3 (ipykernel)",
   "language": "python",
   "name": "python3"
  },
  "language_info": {
   "codemirror_mode": {
    "name": "ipython",
    "version": 3
   },
   "file_extension": ".py",
   "mimetype": "text/x-python",
   "name": "python",
   "nbconvert_exporter": "python",
   "pygments_lexer": "ipython3",
   "version": "3.10.8"
  },
  "varInspector": {
   "cols": {
    "lenName": 16,
    "lenType": 16,
    "lenVar": 40
   },
   "kernels_config": {
    "python": {
     "delete_cmd_postfix": "",
     "delete_cmd_prefix": "del ",
     "library": "var_list.py",
     "varRefreshCmd": "print(var_dic_list())"
    },
    "r": {
     "delete_cmd_postfix": ") ",
     "delete_cmd_prefix": "rm(",
     "library": "var_list.r",
     "varRefreshCmd": "cat(var_dic_list()) "
    }
   },
   "types_to_exclude": [
    "module",
    "function",
    "builtin_function_or_method",
    "instance",
    "_Feature"
   ],
   "window_display": false
  },
  "vscode": {
   "interpreter": {
    "hash": "29b5cbc376c6c32e8ff888a2a1c66eac646bba4d77927957d0111da7ae5b4852"
   }
  }
 },
 "nbformat": 4,
 "nbformat_minor": 5
}
