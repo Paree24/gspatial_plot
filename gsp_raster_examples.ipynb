{
 "cells": [
  {
   "cell_type": "markdown",
   "id": "4f2d6287-914e-4806-ad44-360e2f0190c2",
   "metadata": {},
   "source": [
    "## This notebook uses MODIS data downloaded from NASA EarthData, GHS Population data from Global Human Settlement Layer and Natural Earth Vector Data"
   ]
  },
  {
   "cell_type": "code",
   "execution_count": null,
   "id": "7497de82",
   "metadata": {
    "tags": []
   },
   "outputs": [],
   "source": [
    "import rioxarray\n",
    "import matplotlib.pyplot as plt\n",
    "import gspatial_plot as gsp"
   ]
  },
  {
   "cell_type": "code",
   "execution_count": null,
   "id": "c01a3aea",
   "metadata": {
    "tags": []
   },
   "outputs": [],
   "source": [
    "data = rioxarray.open_rasterio(\"MOD13Q1.A2023177.h12v09.061.2023201061320.hdf\")"
   ]
  },
  {
   "cell_type": "code",
   "execution_count": null,
   "id": "c5e747e9",
   "metadata": {
    "tags": []
   },
   "outputs": [],
   "source": [
    "data = data[\"250m 16 days NDVI\"]"
   ]
  },
  {
   "cell_type": "code",
   "execution_count": null,
   "id": "004b2570",
   "metadata": {
    "tags": []
   },
   "outputs": [],
   "source": [
    "gsp.plot_xarray_raster(data, title=\"NDVI\", legend_kwds={ \"label\":\"NDVI\",\"shrink\":.5})"
   ]
  },
  {
   "cell_type": "code",
   "execution_count": null,
   "id": "11de7a61",
   "metadata": {
    "tags": []
   },
   "outputs": [],
   "source": [
    "bounds = [-57.3733,-8.934,-52.2885,-5.909]"
   ]
  },
  {
   "cell_type": "code",
   "execution_count": null,
   "id": "4857ceeb",
   "metadata": {
    "tags": []
   },
   "outputs": [],
   "source": [
    "gsp.plot_xarray_raster(data, \n",
    "                   title=\"NDVI\", \n",
    "                   legend_kwds={ \"label\":\"NDVI\",\"shrink\":.5}, \n",
    "                   clip_bbox=True, \n",
    "                   bounds=bounds, \n",
    "                   bounds_crs=\"epsg:4326\",\n",
    "                   figsize=(15,10)\n",
    "                  )"
   ]
  },
  {
   "cell_type": "code",
   "execution_count": null,
   "id": "cd94121d",
   "metadata": {
    "tags": []
   },
   "outputs": [],
   "source": [
    "data = rioxarray.open_rasterio(\"GHS_POP_E2020_GLOBE_R2022A_54009_1000_V1_0.tif\")"
   ]
  },
  {
   "cell_type": "code",
   "execution_count": null,
   "id": "4a3d12b4",
   "metadata": {
    "tags": []
   },
   "outputs": [],
   "source": [
    "data.rio.crs"
   ]
  },
  {
   "cell_type": "code",
   "execution_count": null,
   "id": "90078291",
   "metadata": {
    "tags": []
   },
   "outputs": [],
   "source": [
    "import geopandas as gpd\n",
    "gdf = gpd.read_file(\"ne_110m_admin_0_countries.shp\")"
   ]
  },
  {
   "cell_type": "code",
   "execution_count": null,
   "id": "d2f51ade",
   "metadata": {
    "tags": []
   },
   "outputs": [],
   "source": [
    "gdf = gdf[gdf[\"SOVEREIGNT\"]==\"Brazil\"]"
   ]
  },
  {
   "cell_type": "code",
   "execution_count": null,
   "id": "0e5bb36d",
   "metadata": {
    "tags": []
   },
   "outputs": [],
   "source": [
    "gsp.plot_xarray_raster(data, \n",
    "                   title=\"Pop\", \n",
    "                   legend_kwds={ \"label\":\"Pop\",\"shrink\":.5}, \n",
    "                   clip_gdf=True,\n",
    "                   gdf=gdf,\n",
    "                   lower_limit=0,\n",
    "                   figsize=(15,10),\n",
    "                  )"
   ]
  },
  {
   "cell_type": "code",
   "execution_count": null,
   "id": "9a175680",
   "metadata": {
    "tags": []
   },
   "outputs": [],
   "source": [
    "import rasterio"
   ]
  },
  {
   "cell_type": "code",
   "execution_count": null,
   "id": "26fe5649",
   "metadata": {
    "tags": []
   },
   "outputs": [],
   "source": [
    "data = rasterio.open(\"Argentina.tif\")"
   ]
  },
  {
   "cell_type": "code",
   "execution_count": null,
   "id": "70842cc4",
   "metadata": {
    "tags": []
   },
   "outputs": [],
   "source": [
    "from rasterio.plot import show"
   ]
  },
  {
   "cell_type": "code",
   "execution_count": null,
   "id": "5b72082d",
   "metadata": {
    "tags": []
   },
   "outputs": [],
   "source": [
    "plt.title(\"Argentina\")\n",
    "show(data, cmap=\"YlOrRd_r\")"
   ]
  },
  {
   "cell_type": "code",
   "execution_count": null,
   "id": "394cc4a4",
   "metadata": {
    "tags": []
   },
   "outputs": [],
   "source": [
    "gsp.show_raster(data, title=\"Argentina\", colorbar=True, legend_kwds={\"shrink\":0.5}, vmin=0, vmax=1000)"
   ]
  },
  {
   "cell_type": "code",
   "execution_count": null,
   "id": "406d8e6b",
   "metadata": {},
   "outputs": [],
   "source": []
  }
 ],
 "metadata": {
  "kernelspec": {
   "display_name": "Python 3 (ipykernel)",
   "language": "python",
   "name": "python3"
  },
  "language_info": {
   "codemirror_mode": {
    "name": "ipython",
    "version": 3
   },
   "file_extension": ".py",
   "mimetype": "text/x-python",
   "name": "python",
   "nbconvert_exporter": "python",
   "pygments_lexer": "ipython3",
   "version": "3.10.12"
  }
 },
 "nbformat": 4,
 "nbformat_minor": 5
}
